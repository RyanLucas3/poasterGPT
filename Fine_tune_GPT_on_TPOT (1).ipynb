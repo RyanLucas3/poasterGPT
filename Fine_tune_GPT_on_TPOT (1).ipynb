{
  "cells": [
    {
      "cell_type": "code",
      "execution_count": null,
      "metadata": {
        "colab": {
          "base_uri": "https://localhost:8080/"
        },
        "id": "KVNplIk_NIYI",
        "outputId": "76801c9f-5fd0-4ac0-eddd-3ce260de4b0a"
      },
      "outputs": [
        {
          "name": "stdout",
          "output_type": "stream",
          "text": [
            "Requirement already satisfied: openai in /usr/local/lib/python3.10/dist-packages (0.28.0)\n",
            "Requirement already satisfied: datasets in /usr/local/lib/python3.10/dist-packages (2.14.4)\n",
            "Requirement already satisfied: requests>=2.20 in /usr/local/lib/python3.10/dist-packages (from openai) (2.31.0)\n",
            "Requirement already satisfied: tqdm in /usr/local/lib/python3.10/dist-packages (from openai) (4.66.1)\n",
            "Requirement already satisfied: aiohttp in /usr/local/lib/python3.10/dist-packages (from openai) (3.8.5)\n",
            "Requirement already satisfied: numpy>=1.17 in /usr/local/lib/python3.10/dist-packages (from datasets) (1.23.5)\n",
            "Requirement already satisfied: pyarrow>=8.0.0 in /usr/local/lib/python3.10/dist-packages (from datasets) (9.0.0)\n",
            "Requirement already satisfied: dill<0.3.8,>=0.3.0 in /usr/local/lib/python3.10/dist-packages (from datasets) (0.3.7)\n",
            "Requirement already satisfied: pandas in /usr/local/lib/python3.10/dist-packages (from datasets) (1.5.3)\n",
            "Requirement already satisfied: xxhash in /usr/local/lib/python3.10/dist-packages (from datasets) (3.3.0)\n",
            "Requirement already satisfied: multiprocess in /usr/local/lib/python3.10/dist-packages (from datasets) (0.70.15)\n",
            "Requirement already satisfied: fsspec[http]>=2021.11.1 in /usr/local/lib/python3.10/dist-packages (from datasets) (2023.6.0)\n",
            "Requirement already satisfied: huggingface-hub<1.0.0,>=0.14.0 in /usr/local/lib/python3.10/dist-packages (from datasets) (0.16.4)\n",
            "Requirement already satisfied: packaging in /usr/local/lib/python3.10/dist-packages (from datasets) (23.1)\n",
            "Requirement already satisfied: pyyaml>=5.1 in /usr/local/lib/python3.10/dist-packages (from datasets) (6.0.1)\n",
            "Requirement already satisfied: attrs>=17.3.0 in /usr/local/lib/python3.10/dist-packages (from aiohttp->openai) (23.1.0)\n",
            "Requirement already satisfied: charset-normalizer<4.0,>=2.0 in /usr/local/lib/python3.10/dist-packages (from aiohttp->openai) (3.2.0)\n",
            "Requirement already satisfied: multidict<7.0,>=4.5 in /usr/local/lib/python3.10/dist-packages (from aiohttp->openai) (6.0.4)\n",
            "Requirement already satisfied: async-timeout<5.0,>=4.0.0a3 in /usr/local/lib/python3.10/dist-packages (from aiohttp->openai) (4.0.3)\n",
            "Requirement already satisfied: yarl<2.0,>=1.0 in /usr/local/lib/python3.10/dist-packages (from aiohttp->openai) (1.9.2)\n",
            "Requirement already satisfied: frozenlist>=1.1.1 in /usr/local/lib/python3.10/dist-packages (from aiohttp->openai) (1.4.0)\n",
            "Requirement already satisfied: aiosignal>=1.1.2 in /usr/local/lib/python3.10/dist-packages (from aiohttp->openai) (1.3.1)\n",
            "Requirement already satisfied: filelock in /usr/local/lib/python3.10/dist-packages (from huggingface-hub<1.0.0,>=0.14.0->datasets) (3.12.2)\n",
            "Requirement already satisfied: typing-extensions>=3.7.4.3 in /usr/local/lib/python3.10/dist-packages (from huggingface-hub<1.0.0,>=0.14.0->datasets) (4.7.1)\n",
            "Requirement already satisfied: idna<4,>=2.5 in /usr/local/lib/python3.10/dist-packages (from requests>=2.20->openai) (3.4)\n",
            "Requirement already satisfied: urllib3<3,>=1.21.1 in /usr/local/lib/python3.10/dist-packages (from requests>=2.20->openai) (2.0.4)\n",
            "Requirement already satisfied: certifi>=2017.4.17 in /usr/local/lib/python3.10/dist-packages (from requests>=2.20->openai) (2023.7.22)\n",
            "Requirement already satisfied: python-dateutil>=2.8.1 in /usr/local/lib/python3.10/dist-packages (from pandas->datasets) (2.8.2)\n",
            "Requirement already satisfied: pytz>=2020.1 in /usr/local/lib/python3.10/dist-packages (from pandas->datasets) (2023.3)\n",
            "Requirement already satisfied: six>=1.5 in /usr/local/lib/python3.10/dist-packages (from python-dateutil>=2.8.1->pandas->datasets) (1.16.0)\n"
          ]
        }
      ],
      "source": [
        "!pip install openai datasets"
      ]
    },
    {
      "cell_type": "code",
      "execution_count": null,
      "metadata": {
        "colab": {
          "base_uri": "https://localhost:8080/"
        },
        "id": "j3THFM_-NKU9",
        "outputId": "e53d1303-7b92-46d7-9fac-dd931dfe7f5c"
      },
      "outputs": [],
      "source": [
        "import json\n",
        "\n",
        "def read_json_file(filename):\n",
        "    with open(filename, 'r') as file:\n",
        "        return json.load(file)\n",
        "\n",
        "# Read the files\n",
        "parent = 'Poast_Data/'\n",
        "roon_data = read_json_file(parent + 'roon.json')\n",
        "growing_daniel_data = read_json_file(parent + 'growing_daniel.json')\n",
        "pajeet_bateman_data = read_json_file(parent + 'pajeet_bateman.json')\n",
        "tenxer_data = read_json_file(parent + '10xer.json')\n",
        "\n",
        "# Merge the dictionaries\n",
        "merged_data = {**roon_data, **growing_daniel_data, **pajeet_bateman_data, **tenxer_data}"
      ]
    },
    {
      "cell_type": "code",
      "execution_count": null,
      "metadata": {
        "id": "I6ZbWswbNRuE"
      },
      "outputs": [],
      "source": [
        "ds_formatted = [\n",
        "    {\"messages\": [\n",
        "        {\"role\": \"system\", \"content\": \"You are a schizophrenic poaster from Twitter. You are unhinged and tweet overly verbose yet cogent updates on the state of technology.\"},\n",
        "        {'role': 'user', 'content': key},\n",
        "        {'role': 'assistant', 'content': value}]} for key, value in merged_data.items()\n",
        "]"
      ]
    },
    {
      "cell_type": "code",
      "execution_count": null,
      "metadata": {
        "colab": {
          "base_uri": "https://localhost:8080/"
        },
        "id": "z1kSRgkTg-ir",
        "outputId": "a196f090-0728-43e0-fcff-d10c189c57cd"
      },
      "outputs": [
        {
          "data": {
            "text/plain": [
              "185"
            ]
          },
          "execution_count": 4,
          "metadata": {},
          "output_type": "execute_result"
        }
      ],
      "source": [
        "len(ds_formatted)"
      ]
    },
    {
      "cell_type": "code",
      "execution_count": null,
      "metadata": {
        "colab": {
          "base_uri": "https://localhost:8080/"
        },
        "id": "lpqKy5n1Ohcv",
        "outputId": "0cab883b-6ac4-46af-ca0e-1e740ec077d3"
      },
      "outputs": [
        {
          "data": {
            "text/plain": [
              "{'messages': [{'role': 'system',\n",
              "   'content': 'You are a schizophrenic poaster from Twitter. You are unhinged and tweet overly verbose yet cogent updates on the state of technology.'},\n",
              "  {'role': 'user', 'content': 'Write a tweet about passion in biotech'},\n",
              "  {'role': 'assistant',\n",
              "   'content': 'people do biotech for the love of the game. terrible business to be in otherwise.'}]}"
            ]
          },
          "execution_count": 5,
          "metadata": {},
          "output_type": "execute_result"
        }
      ],
      "source": [
        "ds_formatted[0]"
      ]
    },
    {
      "cell_type": "code",
      "execution_count": null,
      "metadata": {
        "id": "PDQsakWXNT4g"
      },
      "outputs": [],
      "source": [
        "import random\n",
        "random.shuffle(ds_formatted)"
      ]
    },
    {
      "cell_type": "code",
      "execution_count": null,
      "metadata": {
        "id": "BRv_c6HQNVbb"
      },
      "outputs": [],
      "source": [
        "ds_train = ds_formatted[:140]\n",
        "ds_val = ds_formatted[140:]"
      ]
    },
    {
      "cell_type": "code",
      "execution_count": null,
      "metadata": {
        "id": "0VqVAkCYOfIj"
      },
      "outputs": [],
      "source": [
        "import json\n",
        "\n",
        "with open('train.jsonl', 'w') as f:\n",
        "    for line in ds_train:\n",
        "        json.dump(line, f)\n",
        "        f.write('\\n')\n",
        "\n",
        "with open('val.jsonl', 'w') as f:\n",
        "    for line in ds_val:\n",
        "        json.dump(line, f)\n",
        "        f.write('\\n')"
      ]
    },
    {
      "cell_type": "code",
      "execution_count": null,
      "metadata": {
        "colab": {
          "base_uri": "https://localhost:8080/"
        },
        "id": "-PJyCbRXOnas",
        "outputId": "5dad5df7-a5c9-426d-e9b7-ea97e1ed9c43"
      },
      "outputs": [
        {
          "name": "stdout",
          "output_type": "stream",
          "text": [
            "10xer.json           pajeet_bateman.json  \u001b[0m\u001b[01;34msample_data\u001b[0m/  val.jsonl\n",
            "growing_daniel.json  roon.json            train.jsonl\n"
          ]
        }
      ],
      "source": [
        "ls"
      ]
    },
    {
      "cell_type": "code",
      "execution_count": null,
      "metadata": {
        "colab": {
          "base_uri": "https://localhost:8080/"
        },
        "id": "6j8InmCMBZFz",
        "outputId": "359ccf5b-e0af-43e6-b8d4-e603ad395c94"
      },
      "outputs": [
        {
          "name": "stdout",
          "output_type": "stream",
          "text": [
            "{\"messages\": [{\"role\": \"system\", \"content\": \"You are a schizophrenic poaster from Twitter. You are unhinged and tweet overly verbose yet cogent updates on the state of technology.\"}, {\"role\": \"user\", \"content\": \"Write a tweet about a humorous observation regarding one's online impact\"}, {\"role\": \"assistant\", \"content\": \"the point of my account is to make respectable machine learning scientists see boosted tweets from 'PowerBottomDad' and 'BreastMilkEnjoyer' in their feed\"}]}\n",
            "{\"messages\": [{\"role\": \"system\", \"content\": \"You are a schizophrenic poaster from Twitter. You are unhinged and tweet overly verbose yet cogent updates on the state of technology.\"}, {\"role\": \"user\", \"content\": \"Write a tweet about suburban governance\"}, {\"role\": \"assistant\", \"content\": \"i don't think local governance is sacrosanct in any shape or form. suburbs reap massive positive externalities from the city they encircle and owe their existence to it. for land use in the US to be sane there needs to be loyalty that's either de facto or de jure\"}]}\n"
          ]
        }
      ],
      "source": [
        "!head -n 2 train.jsonl"
      ]
    },
    {
      "cell_type": "code",
      "execution_count": null,
      "metadata": {
        "colab": {
          "base_uri": "https://localhost:8080/"
        },
        "id": "OyLr48VnBezC",
        "outputId": "38b8983e-251d-4f32-a371-d58552891e9a"
      },
      "outputs": [
        {
          "name": "stdout",
          "output_type": "stream",
          "text": [
            "{\"messages\": [{\"role\": \"system\", \"content\": \"You are a schizophrenic poaster from Twitter. You are unhinged and tweet overly verbose yet cogent updates on the state of technology.\"}, {\"role\": \"user\", \"content\": \"Write a tweet reminiscing college engineering experiences\"}, {\"role\": \"assistant\", \"content\": \"are hackathons still a thing? when I was in college it was incredibly fun to not sleep for 36 hrs and write garbage code followed by a hard coded demo. definitely took some years off my life but really changed my perspective on what engineering is really about\"}]}\n",
            "{\"messages\": [{\"role\": \"system\", \"content\": \"You are a schizophrenic poaster from Twitter. You are unhinged and tweet overly verbose yet cogent updates on the state of technology.\"}, {\"role\": \"user\", \"content\": \"Write a tweet about the impact of technological inventions on wars\"}, {\"role\": \"assistant\", \"content\": \"the scale of destruction of the world wars was made possible by the inventions of industrial chemistry, tanks, artillery, warplanes and then quickly rendered impossible by the invention of nuclear weapons\"}]}\n"
          ]
        }
      ],
      "source": [
        "!head -n 2 val.jsonl"
      ]
    },
    {
      "cell_type": "markdown",
      "metadata": {
        "id": "5WvtMNwNa9Rh"
      },
      "source": [
        "# Upload data"
      ]
    },
    {
      "cell_type": "code",
      "execution_count": null,
      "metadata": {
        "id": "j3wHXgPyO2G_"
      },
      "outputs": [],
      "source": [
        "import openai\n",
        "\n",
        "openai.api_key = 'YOUR API KEY' \n"
      ]
    },
    {
      "cell_type": "code",
      "execution_count": null,
      "metadata": {
        "colab": {
          "base_uri": "https://localhost:8080/"
        },
        "id": "8Ta8v-7_WVV-",
        "outputId": "38095d1e-86a2-4087-a677-25585f7ea2b2"
      },
      "outputs": [
        {
          "data": {
            "text/plain": [
              "<File file id=file-UJenw1sq2Nmk5uVDT5PbI0L9 at 0x7851a42e59e0> JSON: {\n",
              "  \"object\": \"file\",\n",
              "  \"id\": \"file-UJenw1sq2Nmk5uVDT5PbI0L9\",\n",
              "  \"purpose\": \"fine-tune\",\n",
              "  \"filename\": \"file\",\n",
              "  \"bytes\": 67276,\n",
              "  \"created_at\": 1693685909,\n",
              "  \"status\": \"uploaded\",\n",
              "  \"status_details\": null\n",
              "}"
            ]
          },
          "execution_count": 13,
          "metadata": {},
          "output_type": "execute_result"
        }
      ],
      "source": [
        "# Upload training data\n",
        "train = openai.File.create(\n",
        "  file=open(\"train.jsonl\", \"rb\"),\n",
        "  purpose='fine-tune'\n",
        ")\n",
        "train"
      ]
    },
    {
      "cell_type": "code",
      "execution_count": null,
      "metadata": {
        "id": "iEw1aWAjbTrT"
      },
      "outputs": [],
      "source": [
        "train_id = train['id']"
      ]
    },
    {
      "cell_type": "code",
      "execution_count": null,
      "metadata": {
        "colab": {
          "base_uri": "https://localhost:8080/"
        },
        "id": "spFGxDnOO6-n",
        "outputId": "9ff73bbe-1309-407c-8b01-f54ca88f0529"
      },
      "outputs": [
        {
          "data": {
            "text/plain": [
              "<File file id=file-9LDxUflvp9KqmyzL5ES4NdMr at 0x78519410cef0> JSON: {\n",
              "  \"object\": \"file\",\n",
              "  \"id\": \"file-9LDxUflvp9KqmyzL5ES4NdMr\",\n",
              "  \"purpose\": \"fine-tune\",\n",
              "  \"filename\": \"file\",\n",
              "  \"bytes\": 21788,\n",
              "  \"created_at\": 1693685911,\n",
              "  \"status\": \"uploaded\",\n",
              "  \"status_details\": null\n",
              "}"
            ]
          },
          "execution_count": 15,
          "metadata": {},
          "output_type": "execute_result"
        }
      ],
      "source": [
        "# Upload validation data\n",
        "val = openai.File.create(\n",
        "  file=open(\"val.jsonl\", \"rb\"),\n",
        "  purpose='fine-tune'\n",
        ")\n",
        "val"
      ]
    },
    {
      "cell_type": "code",
      "execution_count": null,
      "metadata": {
        "id": "BocEalNXbhJn"
      },
      "outputs": [],
      "source": [
        "val_id = val['id']"
      ]
    },
    {
      "cell_type": "markdown",
      "metadata": {},
      "source": [
        "# You need to wait for Open-AI to register the training and val datasets. It takes 2-3 minutes."
      ]
    },
    {
      "cell_type": "code",
      "execution_count": null,
      "metadata": {},
      "outputs": [],
      "source": [
        "import time\n",
        "time.sleep(180)"
      ]
    },
    {
      "cell_type": "markdown",
      "metadata": {
        "id": "z11XZRk3bFwz"
      },
      "source": [
        "# Fine-tuning"
      ]
    },
    {
      "cell_type": "code",
      "execution_count": null,
      "metadata": {
        "colab": {
          "base_uri": "https://localhost:8080/"
        },
        "id": "toXpW-QfWUeY",
        "outputId": "d4411b2d-d6d4-4492-8793-51e97d7a3edb"
      },
      "outputs": [
        {
          "data": {
            "text/plain": [
              "<FineTuningJob fine_tuning.job id=ftjob-oLni7wKpfR69g4xkVYxoPVSB at 0x785194126e30> JSON: {\n",
              "  \"object\": \"fine_tuning.job\",\n",
              "  \"id\": \"ftjob-oLni7wKpfR69g4xkVYxoPVSB\",\n",
              "  \"model\": \"gpt-3.5-turbo-0613\",\n",
              "  \"created_at\": 1693686633,\n",
              "  \"finished_at\": null,\n",
              "  \"fine_tuned_model\": null,\n",
              "  \"organization_id\": \"org-Qbxm8IYGH5JuxbDihd36NlvU\",\n",
              "  \"result_files\": [],\n",
              "  \"status\": \"created\",\n",
              "  \"validation_file\": \"file-9LDxUflvp9KqmyzL5ES4NdMr\",\n",
              "  \"training_file\": \"file-UJenw1sq2Nmk5uVDT5PbI0L9\",\n",
              "  \"hyperparameters\": {\n",
              "    \"n_epochs\": 3\n",
              "  },\n",
              "  \"trained_tokens\": null\n",
              "}"
            ]
          },
          "execution_count": 20,
          "metadata": {},
          "output_type": "execute_result"
        }
      ],
      "source": [
        "# Create a fine-tuned model\n",
        "response = openai.FineTuningJob.create(\n",
        "    training_file=train_id,\n",
        "    validation_file=val_id,\n",
        "    model=\"gpt-3.5-turbo\"\n",
        "    )\n",
        "response"
      ]
    },
    {
      "cell_type": "code",
      "execution_count": null,
      "metadata": {
        "id": "DaXK5LNKh19c"
      },
      "outputs": [],
      "source": [
        "job_id = response['id']"
      ]
    },
    {
      "cell_type": "code",
      "execution_count": null,
      "metadata": {
        "colab": {
          "base_uri": "https://localhost:8080/"
        },
        "id": "Ra2HyQEyhMyg",
        "outputId": "91f32746-8255-4fd7-e2ab-086637edfb9a"
      },
      "outputs": [
        {
          "data": {
            "text/plain": [
              "<FineTuningJob fine_tuning.job id=ftjob-oLni7wKpfR69g4xkVYxoPVSB at 0x7851ad5ad3f0> JSON: {\n",
              "  \"object\": \"fine_tuning.job\",\n",
              "  \"id\": \"ftjob-oLni7wKpfR69g4xkVYxoPVSB\",\n",
              "  \"model\": \"gpt-3.5-turbo-0613\",\n",
              "  \"created_at\": 1693686633,\n",
              "  \"finished_at\": null,\n",
              "  \"fine_tuned_model\": null,\n",
              "  \"organization_id\": \"org-Qbxm8IYGH5JuxbDihd36NlvU\",\n",
              "  \"result_files\": [],\n",
              "  \"status\": \"running\",\n",
              "  \"validation_file\": \"file-9LDxUflvp9KqmyzL5ES4NdMr\",\n",
              "  \"training_file\": \"file-UJenw1sq2Nmk5uVDT5PbI0L9\",\n",
              "  \"hyperparameters\": {\n",
              "    \"n_epochs\": 3\n",
              "  },\n",
              "  \"trained_tokens\": null\n",
              "}"
            ]
          },
          "execution_count": 22,
          "metadata": {},
          "output_type": "execute_result"
        }
      ],
      "source": [
        "# Retrieve the state of a fine-tune\n",
        "response = openai.FineTuningJob.retrieve(job_id)\n",
        "response"
      ]
    },
    {
      "cell_type": "code",
      "execution_count": null,
      "metadata": {
        "colab": {
          "base_uri": "https://localhost:8080/"
        },
        "id": "Gd-PUDHMtsm1",
        "outputId": "c5f2c327-45d1-4430-f47d-9e1690c1a591"
      },
      "outputs": [
        {
          "data": {
            "text/plain": [
              "<FineTuningJob fine_tuning.job id=ftjob-oLni7wKpfR69g4xkVYxoPVSB at 0x785194125170> JSON: {\n",
              "  \"object\": \"fine_tuning.job\",\n",
              "  \"id\": \"ftjob-oLni7wKpfR69g4xkVYxoPVSB\",\n",
              "  \"model\": \"gpt-3.5-turbo-0613\",\n",
              "  \"created_at\": 1693686633,\n",
              "  \"finished_at\": null,\n",
              "  \"fine_tuned_model\": null,\n",
              "  \"organization_id\": \"org-Qbxm8IYGH5JuxbDihd36NlvU\",\n",
              "  \"result_files\": [],\n",
              "  \"status\": \"running\",\n",
              "  \"validation_file\": \"file-9LDxUflvp9KqmyzL5ES4NdMr\",\n",
              "  \"training_file\": \"file-UJenw1sq2Nmk5uVDT5PbI0L9\",\n",
              "  \"hyperparameters\": {\n",
              "    \"n_epochs\": 3\n",
              "  },\n",
              "  \"trained_tokens\": null\n",
              "}"
            ]
          },
          "execution_count": 23,
          "metadata": {},
          "output_type": "execute_result"
        }
      ],
      "source": [
        "# Retrieve the state of a fine-tune\n",
        "response = openai.FineTuningJob.retrieve(job_id)\n",
        "response"
      ]
    },
    {
      "cell_type": "code",
      "execution_count": null,
      "metadata": {
        "colab": {
          "base_uri": "https://localhost:8080/"
        },
        "id": "uDdeaHPSb-Ht",
        "outputId": "19dac941-a41d-47cf-a3dd-b8a0c0899b73"
      },
      "outputs": [
        {
          "data": {
            "text/plain": [
              "<OpenAIObject list at 0x7851941d7150> JSON: {\n",
              "  \"object\": \"list\",\n",
              "  \"data\": [\n",
              "    {\n",
              "      \"object\": \"fine_tuning.job.event\",\n",
              "      \"id\": \"ftevent-O2jSGpHXfMir8vq8l9xpAQy7\",\n",
              "      \"created_at\": 1693686633,\n",
              "      \"level\": \"info\",\n",
              "      \"message\": \"Fine tuning job started\",\n",
              "      \"data\": null,\n",
              "      \"type\": \"message\"\n",
              "    },\n",
              "    {\n",
              "      \"object\": \"fine_tuning.job.event\",\n",
              "      \"id\": \"ftevent-2Hp5wKdWQVSGjxNGdVJlV3NS\",\n",
              "      \"created_at\": 1693686633,\n",
              "      \"level\": \"info\",\n",
              "      \"message\": \"Created fine-tune: ftjob-oLni7wKpfR69g4xkVYxoPVSB\",\n",
              "      \"data\": null,\n",
              "      \"type\": \"message\"\n",
              "    }\n",
              "  ],\n",
              "  \"has_more\": false\n",
              "}"
            ]
          },
          "execution_count": 24,
          "metadata": {},
          "output_type": "execute_result"
        }
      ],
      "source": [
        "# List up to 10 events from a fine-tuning job\n",
        "response = openai.FineTuningJob.list_events(id=job_id, limit=10)\n",
        "response"
      ]
    },
    {
      "cell_type": "code",
      "execution_count": null,
      "metadata": {
        "colab": {
          "base_uri": "https://localhost:8080/"
        },
        "id": "Y2AZcCxLt_qR",
        "outputId": "a5384a8c-0ee2-409c-b512-63ea0ed8a553"
      },
      "outputs": [
        {
          "name": "stdout",
          "output_type": "stream",
          "text": [
            "Created fine-tune: ftjob-oLni7wKpfR69g4xkVYxoPVSB\n",
            "Fine tuning job started\n"
          ]
        }
      ],
      "source": [
        "events = response[\"data\"]\n",
        "events.reverse()\n",
        "\n",
        "for event in events:\n",
        "    print(event[\"message\"])"
      ]
    },
    {
      "cell_type": "code",
      "execution_count": null,
      "metadata": {
        "colab": {
          "base_uri": "https://localhost:8080/"
        },
        "id": "tUuNLiD1cMJQ",
        "outputId": "00f906ac-d67e-495f-8951-84b2cbabaeb0"
      },
      "outputs": [
        {
          "data": {
            "text/plain": [
              "<FineTuningJob fine_tuning.job id=ftjob-oLni7wKpfR69g4xkVYxoPVSB at 0x7851a42e6de0> JSON: {\n",
              "  \"object\": \"fine_tuning.job\",\n",
              "  \"id\": \"ftjob-oLni7wKpfR69g4xkVYxoPVSB\",\n",
              "  \"model\": \"gpt-3.5-turbo-0613\",\n",
              "  \"created_at\": 1693686633,\n",
              "  \"finished_at\": null,\n",
              "  \"fine_tuned_model\": null,\n",
              "  \"organization_id\": \"org-Qbxm8IYGH5JuxbDihd36NlvU\",\n",
              "  \"result_files\": [],\n",
              "  \"status\": \"running\",\n",
              "  \"validation_file\": \"file-9LDxUflvp9KqmyzL5ES4NdMr\",\n",
              "  \"training_file\": \"file-UJenw1sq2Nmk5uVDT5PbI0L9\",\n",
              "  \"hyperparameters\": {\n",
              "    \"n_epochs\": 3\n",
              "  },\n",
              "  \"trained_tokens\": null\n",
              "}"
            ]
          },
          "execution_count": 26,
          "metadata": {},
          "output_type": "execute_result"
        }
      ],
      "source": [
        "response = openai.FineTuningJob.retrieve(job_id)\n",
        "response"
      ]
    },
    {
      "cell_type": "markdown",
      "metadata": {},
      "source": [
        "# In 5 minutes ish you'll get an email with instructions to load the model into Playground. "
      ]
    }
  ],
  "metadata": {
    "colab": {
      "provenance": []
    },
    "kernelspec": {
      "display_name": "Python 3",
      "name": "python3"
    },
    "language_info": {
      "name": "python"
    }
  },
  "nbformat": 4,
  "nbformat_minor": 0
}
